{
 "cells": [
  {
   "cell_type": "markdown",
   "id": "9144078e-bc7c-4db0-aaff-2a31737cb6dc",
   "metadata": {},
   "source": [
    "# Data Science Tools and Ecosystem"
   ]
  },
  {
   "cell_type": "markdown",
   "id": "0c946f78-cd91-4be9-bba0-c409ec041d3f",
   "metadata": {},
   "source": [
    "Bu not defterinde, Veri Bilimi Araçları ve Ekosistemi özetlenmiştir."
   ]
  },
  {
   "cell_type": "markdown",
   "id": "60d33fc6-b50f-4ced-b216-bb8cdc003eb3",
   "metadata": {},
   "source": [
    "Veri Bilimcilerin kullandığı popüler dillerden bazıları:\n",
    "* R dili\n",
    "* Python\n",
    "* Java\n",
    "* MatLab \n",
    "* SAS"
   ]
  },
  {
   "cell_type": "markdown",
   "id": "6e54badf-04c1-4de4-86a3-67bc6f2405d9",
   "metadata": {},
   "source": [
    "# Hedefler:\n",
    "* Veri Bilimi için popüler dilleri listeleme.\n",
    "* Markdown formatının temel kullanımını öğrenme.\n",
    "* Python'da aritmetik ifadeleri değerlendirme becerisi kazanma.\n",
    "* Dakikaları saatlere dönüştürme işlemini gerçekleştirme.\n",
    "* Kod hücreleri ile etkileşimli notlar oluşturma."
   ]
  },
  {
   "cell_type": "markdown",
   "id": "a6eff329-c252-469c-b131-d70d07afabfc",
   "metadata": {},
   "source": [
    "Veri Bilimcilerin kullandığı yaygın kütüphanelerden bazıları:\n",
    "* NumPy\n",
    "* Pandas\n",
    "* Matplotlib\n",
    "* Seaborn\n",
    "* Scikit-Learn\n",
    "* SciPy"
   ]
  },
  {
   "cell_type": "code",
   "execution_count": 1,
   "id": "a5f103f7-ef2d-4172-829f-219288a5f12b",
   "metadata": {},
   "outputs": [
    {
     "data": {
      "text/html": [
       "<div>\n",
       "<style scoped>\n",
       "    .dataframe tbody tr th:only-of-type {\n",
       "        vertical-align: middle;\n",
       "    }\n",
       "\n",
       "    .dataframe tbody tr th {\n",
       "        vertical-align: top;\n",
       "    }\n",
       "\n",
       "    .dataframe thead th {\n",
       "        text-align: right;\n",
       "    }\n",
       "</style>\n",
       "<table border=\"1\" class=\"dataframe\">\n",
       "  <thead>\n",
       "    <tr style=\"text-align: right;\">\n",
       "      <th></th>\n",
       "      <th>Araçlar</th>\n",
       "    </tr>\n",
       "  </thead>\n",
       "  <tbody>\n",
       "    <tr>\n",
       "      <th>0</th>\n",
       "      <td>Jupyter Notebook</td>\n",
       "    </tr>\n",
       "    <tr>\n",
       "      <th>1</th>\n",
       "      <td>RStudio</td>\n",
       "    </tr>\n",
       "    <tr>\n",
       "      <th>2</th>\n",
       "      <td>Apache Zeppelin</td>\n",
       "    </tr>\n",
       "  </tbody>\n",
       "</table>\n",
       "</div>"
      ],
      "text/plain": [
       "            Araçlar\n",
       "0  Jupyter Notebook\n",
       "1           RStudio\n",
       "2   Apache Zeppelin"
      ]
     },
     "execution_count": 1,
     "metadata": {},
     "output_type": "execute_result"
    }
   ],
   "source": [
    "import pandas as pd\n",
    "\n",
    "# Veri çerçevesi oluşturma\n",
    "data = {\n",
    "    'Araçlar': ['Jupyter Notebook', 'RStudio', 'Apache Zeppelin']\n",
    "}\n",
    "\n",
    "df = pd.DataFrame(data)\n",
    "\n",
    "# Tabloyu görüntüleme\n",
    "df"
   ]
  },
  {
   "cell_type": "code",
   "execution_count": 3,
   "id": "07f8db5a-36e6-4ff6-b3f8-481ab9880ac6",
   "metadata": {},
   "outputs": [
    {
     "name": "stdout",
     "output_type": "stream",
     "text": [
      "Toplama: 8\n",
      "Çıkarma: 6\n",
      "Çarpma: 42\n",
      "Bölme: 5.0\n",
      "Modül: 1\n",
      "Üslü Sayı: 8\n"
     ]
    }
   ],
   "source": [
    "# Aşağıda Python'da aritmetik ifadeleri değerlendirme örnekleri bulunmaktadır.\n",
    "# Toplama\n",
    "toplama = 5 + 3\n",
    "print(\"Toplama:\", toplama)  # Çıktı: 8\n",
    "\n",
    "# Çıkarma\n",
    "cikarma = 10 - 4\n",
    "print(\"Çıkarma:\", cikarma)  # Çıktı: 6\n",
    "\n",
    "# Çarpma\n",
    "carpma = 7 * 6\n",
    "print(\"Çarpma:\", carpma)  # Çıktı: 42\n",
    "\n",
    "# Bölme\n",
    "bolme = 20 / 4\n",
    "print(\"Bölme:\", bolme)  # Çıktı: 5.0\n",
    "\n",
    "# Modül alma\n",
    "modul = 10 % 3\n",
    "print(\"Modül:\", modul)  # Çıktı: 1\n",
    "\n",
    "# Üslü sayılar\n",
    "uslu_sayi = 2 ** 3\n",
    "print(\"Üslü Sayı:\", uslu_sayi)  # Çıktı: 8"
   ]
  },
  {
   "cell_type": "code",
   "execution_count": 9,
   "id": "f6bc7d8c-d607-4429-86ca-8853566de5e3",
   "metadata": {},
   "outputs": [
    {
     "name": "stdout",
     "output_type": "stream",
     "text": [
      "Sonuç: 17\n"
     ]
    }
   ],
   "source": [
    "#Bu, tam sayıları çarpıp sonra toplamak için basit bir aritmetik ifadedir.\n",
    "sonuc = (3 * 4) + 5\n",
    "print(\"Sonuç:\", sonuc)"
   ]
  },
  {
   "cell_type": "code",
   "execution_count": 7,
   "id": "c45dd7be-37d8-4007-9cf5-b4765bd4b8f1",
   "metadata": {},
   "outputs": [
    {
     "name": "stdout",
     "output_type": "stream",
     "text": [
      "Saat: 3.3333333333333335\n"
     ]
    }
   ],
   "source": [
    "# Bu, 200 dakikayı 60'a bölerek saatlere dönüştürecektir.\n",
    "dakika = 200\n",
    "saat = dakika / 60\n",
    "print(\"Saat:\", saat)"
   ]
  },
  {
   "cell_type": "markdown",
   "id": "79b033b1-4295-4962-ad2c-098540c4469c",
   "metadata": {},
   "source": [
    "# Yazar\n",
    "Adım: Orhan AVŞAR"
   ]
  },
  {
   "cell_type": "code",
   "execution_count": null,
   "id": "231a9267-d1d6-4cf7-b5f2-5c1d0e69ae9a",
   "metadata": {},
   "outputs": [],
   "source": []
  }
 ],
 "metadata": {
  "kernelspec": {
   "display_name": "Python 3 (ipykernel)",
   "language": "python",
   "name": "python3"
  },
  "language_info": {
   "codemirror_mode": {
    "name": "ipython",
    "version": 3
   },
   "file_extension": ".py",
   "mimetype": "text/x-python",
   "name": "python",
   "nbconvert_exporter": "python",
   "pygments_lexer": "ipython3",
   "version": "3.11.5"
  }
 },
 "nbformat": 4,
 "nbformat_minor": 5
}
